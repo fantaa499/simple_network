{
 "cells": [
  {
   "cell_type": "code",
   "execution_count": 1,
   "metadata": {},
   "outputs": [],
   "source": [
    "import numpy as np\n",
    "from sklearn.datasets import fetch_openml\n",
    "from sklearn.model_selection import train_test_split\n",
    "from sklearn.metrics import accuracy_score\n",
    "from net.layer import Layer\n",
    "from net.network import Network\n",
    "from net.layer import Dense, Input, Sigmoid, LossMSE, ReLu, Tanh \n",
    "from net.back_propogation import BackPropagation\n",
    "import matplotlib.pyplot as plt\n",
    "from sklearn.preprocessing import normalize"
   ]
  },
  {
   "cell_type": "code",
   "execution_count": 2,
   "metadata": {},
   "outputs": [],
   "source": [
    "# Load data from https://www.openml.org/d/554\n",
    "X, y = fetch_openml('mnist_784', version=1, return_X_y=True)"
   ]
  },
  {
   "cell_type": "code",
   "execution_count": 3,
   "metadata": {},
   "outputs": [],
   "source": [
    "X = X[:200]\n",
    "y = X"
   ]
  },
  {
   "cell_type": "code",
   "execution_count": 27,
   "metadata": {},
   "outputs": [],
   "source": [
    "layers = [Input(784),   \n",
    "          Dense(32),    \n",
    "          Tanh(), \n",
    "          Dense(32),\n",
    "          Tanh(),\n",
    "          Dense(784),      \n",
    "          LossMSE()] # Слой для подсчета ошибки\n",
    "\n",
    "net = Network(layers)\n",
    "solver = BackPropagation(net)"
   ]
  },
  {
   "cell_type": "markdown",
   "metadata": {},
   "source": [
    "Сначала попробуем переобучить модель на маленькой выборке"
   ]
  },
  {
   "cell_type": "code",
   "execution_count": 28,
   "metadata": {
    "scrolled": true
   },
   "outputs": [
    {
     "name": "stdout",
     "output_type": "stream",
     "text": [
      "Epoch 0: loss = 3159.332633934125\n",
      "Epoch 100: loss = 1461.1132565830042\n",
      "Epoch 200: loss = 1235.0548041970344\n",
      "Epoch 300: loss = 1141.1983268117278\n",
      "Epoch 400: loss = 882.5544835619373\n",
      "Epoch 500: loss = 485.2435755117032\n",
      "Epoch 600: loss = 478.87968509460393\n",
      "Epoch 700: loss = 395.8419725331262\n",
      "Epoch 800: loss = 262.04473218079227\n",
      "Epoch 900: loss = 340.56326841465824\n",
      "Epoch 1000: loss = 325.7261798265197\n",
      "Epoch 1100: loss = 257.3399297787768\n",
      "Epoch 1200: loss = 253.91825668480755\n",
      "Epoch 1300: loss = 275.77748748055376\n",
      "Epoch 1400: loss = 215.73663987442558\n",
      "Epoch 1500: loss = 241.43254467658633\n",
      "Epoch 1600: loss = 131.43508766617558\n",
      "Epoch 1700: loss = 141.60382365175192\n",
      "Epoch 1800: loss = 198.7813486464591\n",
      "Epoch 1900: loss = 288.7059661650736\n"
     ]
    }
   ],
   "source": [
    "solver.fit(X[:10], y[:10], n_epoch=2000, batch_size=100, l_rate=0.1, l_rate_decay_n_epoch=1000, display=True)"
   ]
  },
  {
   "cell_type": "code",
   "execution_count": 30,
   "metadata": {
    "scrolled": false
   },
   "outputs": [
    {
     "data": {
      "image/png": "[encoded data removed]",
      "text/plain": [
       "<Figure size 432x288 with 1 Axes>"
      ]
     },
     "metadata": {
      "needs_background": "light"
     },
     "output_type": "display_data"
    }
   ],
   "source": [
    "losses = solver.get_loss()\n",
    "\n",
    "fig, ax = plt.subplots()\n",
    "plt.plot(losses)\n",
    "ax.set_xlabel('Номер эпохи')\n",
    "ax.set_ylabel('Loss')\n",
    "ax.set_title('Loss')\n",
    "# plt.ylim([0,2])\n",
    "plt.show()"
   ]
  },
  {
   "cell_type": "code",
   "execution_count": 46,
   "metadata": {},
   "outputs": [],
   "source": [
    "test_image = X[2]"
   ]
  },
  {
   "cell_type": "code",
   "execution_count": 47,
   "metadata": {},
   "outputs": [
    {
     "data": {
      "image/png": "[encoded data removed]",
      "text/plain": [
       "<Figure size 432x288 with 1 Axes>"
      ]
     },
     "metadata": {
      "needs_background": "light"
     },
     "output_type": "display_data"
    }
   ],
   "source": [
    "plt.imshow(test_image.reshape(28,28),  cmap='Greys')\n",
    "plt.show()"
   ]
  },
  {
   "cell_type": "code",
   "execution_count": 48,
   "metadata": {},
   "outputs": [
    {
     "data": {
      "image/png": "[encoded data removed]",
      "text/plain": [
       "<Figure size 432x288 with 1 Axes>"
      ]
     },
     "metadata": {
      "needs_background": "light"
     },
     "output_type": "display_data"
    }
   ],
   "source": [
    "plt.imshow(solver.predict([test_image]).reshape(28,28),  cmap='Greys')\n",
    "plt.show()"
   ]
  },
  {
   "cell_type": "code",
   "execution_count": 62,
   "metadata": {},
   "outputs": [],
   "source": [
    "layers = [Input(784),   \n",
    "          Dense(32),    \n",
    "          Tanh(), \n",
    "          Dense(32),\n",
    "          Tanh(),\n",
    "          Dense(784),      \n",
    "          LossMSE()] # Слой для подсчета ошибки\n",
    "\n",
    "net = Network(layers)\n",
    "solver = BackPropagation(net)"
   ]
  },
  {
   "cell_type": "code",
   "execution_count": 63,
   "metadata": {
    "scrolled": true
   },
   "outputs": [
    {
     "name": "stdout",
     "output_type": "stream",
     "text": [
      "Epoch 0: loss = 3388.206501946454\n",
      "Epoch 100: loss = 2055.6306271743\n",
      "Epoch 200: loss = 2046.42189237996\n",
      "Epoch 300: loss = 2161.4444109449496\n",
      "Epoch 400: loss = 2028.8500897578515\n",
      "Epoch 500: loss = 2144.2286346211267\n",
      "Epoch 600: loss = 2092.935693729877\n",
      "Epoch 700: loss = 2189.507248697362\n",
      "Epoch 800: loss = 2072.5283867875173\n",
      "Epoch 900: loss = 2095.6405709070696\n",
      "Epoch 1000: loss = 2056.369746757754\n",
      "Epoch 1100: loss = 2128.088809695022\n",
      "Epoch 1200: loss = 2043.1071719169108\n",
      "Epoch 1300: loss = 2061.185295275256\n",
      "Epoch 1400: loss = 2142.9875309629806\n",
      "Epoch 1500: loss = 1952.7806197342968\n",
      "Epoch 1600: loss = 2082.7615351464765\n",
      "Epoch 1700: loss = 2111.575806267257\n",
      "Epoch 1800: loss = 2004.8421734092883\n",
      "Epoch 1900: loss = 2100.0557640282127\n",
      "Epoch 2000: loss = 2094.8846964226514\n",
      "Epoch 2100: loss = 2134.3827325506104\n",
      "Epoch 2200: loss = 2002.9360165148782\n",
      "Epoch 2300: loss = 2132.471157070556\n",
      "Epoch 2400: loss = 1983.723429549631\n",
      "Epoch 2500: loss = 2077.538210756186\n",
      "Epoch 2600: loss = 2013.2783132224085\n",
      "Epoch 2700: loss = 2106.328743162541\n",
      "Epoch 2800: loss = 1940.3118139658643\n",
      "Epoch 2900: loss = 2095.7640556799247\n",
      "Epoch 3000: loss = 1997.328189222976\n",
      "Epoch 3100: loss = 1989.129741691986\n",
      "Epoch 3200: loss = 2135.830321587658\n",
      "Epoch 3300: loss = 2224.150637318762\n",
      "Epoch 3400: loss = 2089.6375437798433\n",
      "Epoch 3500: loss = 2106.125627382399\n",
      "Epoch 3600: loss = 2036.728231705444\n",
      "Epoch 3700: loss = 2134.624280136328\n",
      "Epoch 3800: loss = 2083.788299157121\n",
      "Epoch 3900: loss = 2086.4742616156786\n",
      "Epoch 4000: loss = 1993.642393686021\n",
      "Epoch 4100: loss = 2064.1945264048936\n",
      "Epoch 4200: loss = 2079.3151857494167\n",
      "Epoch 4300: loss = 2038.2024962460162\n",
      "Epoch 4400: loss = 2121.343762142227\n",
      "Epoch 4500: loss = 2213.9928232601123\n",
      "Epoch 4600: loss = 2039.9789813383063\n",
      "Epoch 4700: loss = 2116.663365193538\n",
      "Epoch 4800: loss = 2111.0224962063503\n",
      "Epoch 4900: loss = 2102.835304245393\n",
      "Epoch 5000: loss = 2032.261721901439\n",
      "Epoch 5100: loss = 2079.5563116374333\n",
      "Epoch 5200: loss = 2066.4835456050178\n",
      "Epoch 5300: loss = 2194.3359707305267\n",
      "Epoch 5400: loss = 2048.590557701178\n",
      "Epoch 5500: loss = 2112.465235596002\n",
      "Epoch 5600: loss = 2080.3594778279103\n",
      "Epoch 5700: loss = 2102.1120078818913\n",
      "Epoch 5800: loss = 2129.1067373740743\n",
      "Epoch 5900: loss = 2197.3816955225802\n",
      "Epoch 6000: loss = 2154.805098257434\n",
      "Epoch 6100: loss = 2087.5015342447577\n",
      "Epoch 6200: loss = 2150.0215494414792\n",
      "Epoch 6300: loss = 2072.5111183507006\n",
      "Epoch 6400: loss = 2066.735644555403\n",
      "Epoch 6500: loss = 1970.8112028024254\n",
      "Epoch 6600: loss = 2125.1437673812966\n",
      "Epoch 6700: loss = 2171.6788210675677\n",
      "Epoch 6800: loss = 2125.4050412271913\n",
      "Epoch 6900: loss = 2157.73395639368\n",
      "Epoch 7000: loss = 2112.311700304877\n",
      "Epoch 7100: loss = 2085.5088308388486\n",
      "Epoch 7200: loss = 2160.588018292345\n",
      "Epoch 7300: loss = 2163.5537737554455\n",
      "Epoch 7400: loss = 2071.7208671001354\n",
      "Epoch 7500: loss = 2151.8975278893577\n",
      "Epoch 7600: loss = 2166.1055869088864\n",
      "Epoch 7700: loss = 2166.7881519843804\n",
      "Epoch 7800: loss = 2064.344436803415\n",
      "Epoch 7900: loss = 2090.9032223925233\n",
      "Epoch 8000: loss = 2037.4029050106108\n",
      "Epoch 8100: loss = 2156.280170697288\n",
      "Epoch 8200: loss = 2026.4418424873359\n",
      "Epoch 8300: loss = 2028.9387914758556\n",
      "Epoch 8400: loss = 2236.4099799190913\n",
      "Epoch 8500: loss = 2224.191172542924\n",
      "Epoch 8600: loss = 2233.493657571257\n",
      "Epoch 8700: loss = 2188.1784784637935\n",
      "Epoch 8800: loss = 1986.0574977208685\n",
      "Epoch 8900: loss = 2125.468190449949\n",
      "Epoch 9000: loss = 2068.256719469215\n",
      "Epoch 9100: loss = 2160.904618301918\n",
      "Epoch 9200: loss = 2078.122020803659\n",
      "Epoch 9300: loss = 2015.7425170576048\n",
      "Epoch 9400: loss = 2112.76813494793\n",
      "Epoch 9500: loss = 2180.509091664739\n",
      "Epoch 9600: loss = 2153.47905091818\n",
      "Epoch 9700: loss = 2039.6192609487937\n",
      "Epoch 9800: loss = 2177.5827746217838\n",
      "Epoch 9900: loss = 2152.3547447915053\n"
     ]
    }
   ],
   "source": [
    "solver.fit(X, y, n_epoch=10000, batch_size=100, l_rate=0.01, l_rate_decay_n_epoch=10000, display=True)"
   ]
  },
  {
   "cell_type": "code",
   "execution_count": 64,
   "metadata": {},
   "outputs": [
    {
     "data": {
      "image/png": "[encoded data removed]",
      "text/plain": [
       "<Figure size 432x288 with 1 Axes>"
      ]
     },
     "metadata": {
      "needs_background": "light"
     },
     "output_type": "display_data"
    }
   ],
   "source": [
    "losses = solver.get_loss()\n",
    "\n",
    "fig, ax = plt.subplots()\n",
    "plt.plot(losses)\n",
    "ax.set_xlabel('Номер эпохи')\n",
    "ax.set_ylabel('Loss')\n",
    "ax.set_title('Loss')\n",
    "# plt.ylim([0,2])\n",
    "plt.show()"
   ]
  }
 ],
 "metadata": {
  "kernelspec": {
   "display_name": "Python 3",
   "language": "python",
   "name": "python3"
  },
  "language_info": {
   "codemirror_mode": {
    "name": "ipython",
    "version": 3
   },
   "file_extension": ".py",
   "mimetype": "text/x-python",
   "name": "python",
   "nbconvert_exporter": "python",
   "pygments_lexer": "ipython3",
   "version": "3.7.1"
  }
 },
 "nbformat": 4,
 "nbformat_minor": 2
}
