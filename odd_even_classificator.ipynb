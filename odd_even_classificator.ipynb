{
 "cells": [
  {
   "cell_type": "markdown",
   "metadata": {},
   "source": [
    "# Классификатор четное - нечетное"
   ]
  },
  {
   "cell_type": "code",
   "execution_count": 22,
   "metadata": {},
   "outputs": [],
   "source": [
    "import numpy as np\n",
    "import random\n",
    "\n",
    "from net.layer import Layer\n",
    "from net.network import Network\n",
    "from net.layer import Dense, Input, LossMSE\n",
    "from net.back_propogation import BackPropagation\n",
    "import matplotlib.pyplot as plt\n",
    "\n",
    "%config InlineBackend.figure_format = 'retina'"
   ]
  },
  {
   "cell_type": "markdown",
   "metadata": {},
   "source": [
    "## Cоздание выборки"
   ]
  },
  {
   "cell_type": "code",
   "execution_count": 2,
   "metadata": {},
   "outputs": [
    {
     "data": {
      "text/plain": [
       "[34, 134, 102, 203, 223]"
      ]
     },
     "execution_count": 2,
     "metadata": {},
     "output_type": "execute_result"
    }
   ],
   "source": [
    "# Количество сэмплов\n",
    "n = 100\n",
    "# 8 битами можно записать числа от 0 до 255\n",
    "X = [random.randint(0,255) for _ in range(n)]\n",
    "X[:5]"
   ]
  },
  {
   "cell_type": "code",
   "execution_count": 3,
   "metadata": {},
   "outputs": [],
   "source": [
    "# Функция перевода числа в битовый вид\n",
    "def int2bin(x):\n",
    "    # Бинаризуем числа, первые два символа означают кодировку, \n",
    "    # поэтому их учистывать не будем\n",
    "    x_str = bin(x)[2:]\n",
    "    # Если количество символов не 8, добавим незначащие нули\n",
    "    n_char = len(x_str)\n",
    "    if n_char < 8:\n",
    "        x_str = '0'*(8 - n_char) + x_str\n",
    "    # Из строки в массив, поэлементно\n",
    "    x_str_list = list(x_str)\n",
    "    # Из строки в целое число\n",
    "    x_int_list = list(map(int, x_str_list))\n",
    "    return x_int_list"
   ]
  },
  {
   "cell_type": "code",
   "execution_count": 4,
   "metadata": {
    "scrolled": true
   },
   "outputs": [
    {
     "data": {
      "text/plain": [
       "[[0, 0, 1, 0, 0, 0, 1, 0],\n",
       " [1, 0, 0, 0, 0, 1, 1, 0],\n",
       " [0, 1, 1, 0, 0, 1, 1, 0],\n",
       " [1, 1, 0, 0, 1, 0, 1, 1],\n",
       " [1, 1, 0, 1, 1, 1, 1, 1]]"
      ]
     },
     "execution_count": 4,
     "metadata": {},
     "output_type": "execute_result"
    }
   ],
   "source": [
    "X = list(map(int2bin, X))\n",
    "X[:5]"
   ]
  },
  {
   "cell_type": "code",
   "execution_count": 5,
   "metadata": {},
   "outputs": [
    {
     "data": {
      "text/plain": [
       "[0, 0, 0, 1, 1]"
      ]
     },
     "execution_count": 5,
     "metadata": {},
     "output_type": "execute_result"
    }
   ],
   "source": [
    "# Сгенерируем ответы\n",
    "# Последний бит указывает на четность\n",
    "y = list(map(lambda x: x[7], X))\n",
    "# 0 - четное, 1 нечетное\n",
    "y[:5]"
   ]
  },
  {
   "cell_type": "code",
   "execution_count": 6,
   "metadata": {},
   "outputs": [],
   "source": [
    "# Важный момент, сеть работает только с массивами numpy\n",
    "# Трансформируем list в numpy array\n",
    "X = np.array(X)\n",
    "y = np.array(y)\n",
    "X.resize(n, 8)\n",
    "y.resize(n, 1)"
   ]
  },
  {
   "cell_type": "markdown",
   "metadata": {},
   "source": [
    "## Создадим нейронную сеть"
   ]
  },
  {
   "cell_type": "code",
   "execution_count": 14,
   "metadata": {},
   "outputs": [],
   "source": [
    "# Определим слои:\n",
    "# - входной, который будет принимать побитовое представление числа.\n",
    "# - выходной, который выводит четное или нечетное число.\n",
    "layers = [Input(8),\n",
    "          Dense(1),\n",
    "          LossMSE()]"
   ]
  },
  {
   "cell_type": "code",
   "execution_count": 15,
   "metadata": {},
   "outputs": [],
   "source": [
    "# Определим сеть из слоев\n",
    "net = Network(layers)\n",
    "# Выберем в качестве оптимизатора, алгоритм обратного распростронения\n",
    "solver = BackPropagation(net)"
   ]
  },
  {
   "cell_type": "markdown",
   "metadata": {},
   "source": [
    "## Тренировка сети"
   ]
  },
  {
   "cell_type": "code",
   "execution_count": 16,
   "metadata": {},
   "outputs": [
    {
     "name": "stdout",
     "output_type": "stream",
     "text": [
      "Epoch 1: loss = 0.23048628828197448\n",
      "Epoch 100: loss = 0.0024844760944547086\n"
     ]
    }
   ],
   "source": [
    "# пройдем по всем данным n_epoch раз \n",
    "solver.fit(X, y, n_epoch=100, l_rate=1, l_rate_decay_n_epoch=10000, display=True)"
   ]
  },
  {
   "cell_type": "code",
   "execution_count": 21,
   "metadata": {},
   "outputs": [
    {
     "data": {
      "image/png": "[encoded data removed]",
      "text/plain": [
       "<Figure size 432x288 with 1 Axes>"
      ]
     },
     "metadata": {
      "needs_background": "light"
     },
     "output_type": "display_data"
    }
   ],
   "source": [
    "losses = solver.get_loss()\n",
    "\n",
    "fig, ax = plt.subplots()\n",
    "plt.plot(losses)\n",
    "ax.set_xlabel('Номер эпохи')\n",
    "ax.set_ylabel('Loss')\n",
    "ax.set_title('Loss')\n",
    "plt.show()"
   ]
  },
  {
   "cell_type": "code",
   "execution_count": 18,
   "metadata": {},
   "outputs": [],
   "source": [
    "# Предсказание четности \n",
    "def predict_odd_or_even(predictor, xs):\n",
    "    # выбор режим, для предсказание точности  одного числа или\n",
    "    # нескольких\n",
    "    if type(xs) is list:\n",
    "        X_bin = list(map(int2bin, xs))\n",
    "    else:\n",
    "        X_bin = [int2bin(xs)]\n",
    "    answers = predictor.predict(X_bin)\n",
    "    # если 0 то четное, если 1 то нечетное,\n",
    "    # выберем то, до которого ближе\n",
    "    for answer, x in zip(answers, xs):\n",
    "        if answer < 0.5:\n",
    "            print(f\"число {x} - четное\")\n",
    "        else:\n",
    "            print(f\"число {x} - нечетное\")\n",
    "    "
   ]
  },
  {
   "cell_type": "code",
   "execution_count": 19,
   "metadata": {},
   "outputs": [
    {
     "name": "stdout",
     "output_type": "stream",
     "text": [
      "число 53 - нечетное\n",
      "число 2 - четное\n",
      "число 5 - нечетное\n"
     ]
    }
   ],
   "source": [
    "# Проверим правильность предсказания\n",
    "predict_odd_or_even(solver, [53, 2, 5])"
   ]
  },
  {
   "cell_type": "code",
   "execution_count": 20,
   "metadata": {},
   "outputs": [
    {
     "data": {
      "text/plain": [
       "[array([[ 0.01249338],\n",
       "        [-0.02268791],\n",
       "        [-0.05886411],\n",
       "        [-0.02320227],\n",
       "        [ 0.09633874],\n",
       "        [ 0.04883109],\n",
       "        [-0.01661552],\n",
       "        [ 0.91286877]])]"
      ]
     },
     "execution_count": 20,
     "metadata": {},
     "output_type": "execute_result"
    }
   ],
   "source": [
    "# Посмотрим на веса\n",
    "solver.get_weights()"
   ]
  },
  {
   "cell_type": "markdown",
   "metadata": {},
   "source": [
    "Первые 8 весов, это коэфициент перед входным нейроном, а последний это свободный вес смещения.\n",
    "Как мы видим, коэфициент при 8 бите гораздо больше остальных. "
   ]
  }
 ],
 "metadata": {
  "kernelspec": {
   "display_name": "Python 3",
   "language": "python",
   "name": "python3"
  },
  "language_info": {
   "codemirror_mode": {
    "name": "ipython",
    "version": 3
   },
   "file_extension": ".py",
   "mimetype": "text/x-python",
   "name": "python",
   "nbconvert_exporter": "python",
   "pygments_lexer": "ipython3",
   "version": "3.7.1"
  }
 },
 "nbformat": 4,
 "nbformat_minor": 1
}
