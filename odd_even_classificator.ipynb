{
 "cells": [
  {
   "cell_type": "code",
   "execution_count": 1,
   "metadata": {},
   "outputs": [],
   "source": [
    "import numpy as np\n",
    "import random\n",
    "\n",
    "from layer import Layer\n",
    "from network import Network\n",
    "from activation_functions import sigmoid\n",
    "from back_propogation import BackPropagation\n",
    "import matplotlib.pyplot as plt"
   ]
  },
  {
   "cell_type": "markdown",
   "metadata": {},
   "source": [
    "## Создадим нейронную сеть"
   ]
  },
  {
   "cell_type": "code",
   "execution_count": 2,
   "metadata": {},
   "outputs": [],
   "source": [
    "# Определим слои:\n",
    "# - входной, который будет принимать побитовое представление числа.\n",
    "# - выходной, который выводит четное или нечетное число.\n",
    "layers = [Layer(n_neurons=8, type=\"in\"),\n",
    "          Layer(n_neurons=1, type='out', f_activation=sigmoid)]"
   ]
  },
  {
   "cell_type": "code",
   "execution_count": 3,
   "metadata": {},
   "outputs": [],
   "source": [
    "# Определим сеть из слоев\n",
    "net = Network(layers)\n",
    "# Выберем в качестве оптимизатора, алгоритм обратного распростронения\n",
    "solver = BackPropagation(net)"
   ]
  },
  {
   "cell_type": "markdown",
   "metadata": {},
   "source": [
    "## Cоздание выборки"
   ]
  },
  {
   "cell_type": "code",
   "execution_count": 4,
   "metadata": {},
   "outputs": [
    {
     "data": {
      "text/plain": [
       "[126, 161, 83, 38, 118]"
      ]
     },
     "execution_count": 4,
     "metadata": {},
     "output_type": "execute_result"
    }
   ],
   "source": [
    "# Количество сэмплов\n",
    "n = 100\n",
    "# 8 битами можно записать числа от 0 до 255\n",
    "X = [random.randint(0,255) for _ in range(n)]\n",
    "X[:5]"
   ]
  },
  {
   "cell_type": "code",
   "execution_count": 5,
   "metadata": {},
   "outputs": [],
   "source": [
    "# Функция перевода числа в битовый вид\n",
    "def int2bin(x):\n",
    "    # Бинаризуем числа, первые два символа означают кодировку, \n",
    "    # поэтому их учистывать не будем\n",
    "    x_str = bin(x)[2:]\n",
    "    # Если количество символов не 8, добавим незначащие нули\n",
    "    n_char = len(x_str)\n",
    "    if n_char < 8:\n",
    "        x_str = '0'*(8 - n_char) + x_str\n",
    "    # Из строки в массив, поэлементно\n",
    "    x_str_list = list(x_str)\n",
    "    # Из строки в целое число\n",
    "    x_int_list = list(map(int, x_str_list))\n",
    "    return x_int_list"
   ]
  },
  {
   "cell_type": "code",
   "execution_count": 6,
   "metadata": {
    "scrolled": true
   },
   "outputs": [
    {
     "data": {
      "text/plain": [
       "[[0, 1, 1, 1, 1, 1, 1, 0],\n",
       " [1, 0, 1, 0, 0, 0, 0, 1],\n",
       " [0, 1, 0, 1, 0, 0, 1, 1],\n",
       " [0, 0, 1, 0, 0, 1, 1, 0],\n",
       " [0, 1, 1, 1, 0, 1, 1, 0]]"
      ]
     },
     "execution_count": 6,
     "metadata": {},
     "output_type": "execute_result"
    }
   ],
   "source": [
    "X = list(map(int2bin, X))\n",
    "X[:5]"
   ]
  },
  {
   "cell_type": "code",
   "execution_count": 7,
   "metadata": {},
   "outputs": [
    {
     "data": {
      "text/plain": [
       "[0, 1, 1, 0, 0]"
      ]
     },
     "execution_count": 7,
     "metadata": {},
     "output_type": "execute_result"
    }
   ],
   "source": [
    "# Сгенерируем ответы\n",
    "# Последний бит указывает на четность\n",
    "y = list(map(lambda x: x[7], X))\n",
    "# 0 - четное, 1 нечетное\n",
    "y[:5]"
   ]
  },
  {
   "cell_type": "code",
   "execution_count": 8,
   "metadata": {},
   "outputs": [],
   "source": [
    "# Важный момент, сеть работает только с массивами numpy\n",
    "# Трансформируем list в numpy array\n",
    "X = np.array(X)\n",
    "y = np.array(y)\n",
    "X.resize(n, 8)\n",
    "y.resize(n, 1)"
   ]
  },
  {
   "cell_type": "markdown",
   "metadata": {},
   "source": [
    "## Тренировка сети"
   ]
  },
  {
   "cell_type": "code",
   "execution_count": 9,
   "metadata": {},
   "outputs": [],
   "source": [
    "# пройдем по всем данным n_epoch раз \n",
    "solver.fit(X, y, n_epoch=100)"
   ]
  },
  {
   "cell_type": "code",
   "execution_count": 10,
   "metadata": {},
   "outputs": [
    {
     "data": {
      "image/png": "[encoded data removed]",
      "text/plain": [
       "<Figure size 432x288 with 1 Axes>"
      ]
     },
     "metadata": {
      "needs_background": "light"
     },
     "output_type": "display_data"
    }
   ],
   "source": [
    "# Построим график ошибки, от эпохи, как мы видим, уже после нескольких эпох,\n",
    "# алгоритм сошелся\n",
    "losses = solver.get_loss()\n",
    "plt.plot(losses)\n",
    "plt.show()"
   ]
  },
  {
   "cell_type": "code",
   "execution_count": 11,
   "metadata": {},
   "outputs": [],
   "source": [
    "# Предсказание четности \n",
    "def predict_odd_or_even(predictor, xs):\n",
    "    # выбор режим, для предсказание точности  одного числа или\n",
    "    # нескольких\n",
    "    if type(xs) is list:\n",
    "        X_bin = list(map(int2bin, xs))\n",
    "    else:\n",
    "        X_bin = [int2bin(xs)]\n",
    "    answers = predictor.predict(X_bin)\n",
    "    # если 0 то четное, если 1 то нечетное,\n",
    "    # выберем то, до которого ближе\n",
    "    for answer, x in zip(answers, xs):\n",
    "        if answer < 0.5:\n",
    "            print(f\"число {x} - четное\")\n",
    "        else:\n",
    "            print(f\"число {x} - нечетное\")\n",
    "    "
   ]
  },
  {
   "cell_type": "code",
   "execution_count": 12,
   "metadata": {},
   "outputs": [
    {
     "name": "stdout",
     "output_type": "stream",
     "text": [
      "число 53 - нечетное\n",
      "число 2 - четное\n",
      "число 5 - нечетное\n"
     ]
    }
   ],
   "source": [
    "# Проверим правильность предсказания\n",
    "predict_odd_or_even(solver, [53, 2, 5])"
   ]
  },
  {
   "cell_type": "code",
   "execution_count": 13,
   "metadata": {},
   "outputs": [
    {
     "data": {
      "text/plain": [
       "[array([[-1.18130775],\n",
       "        [-0.47022411],\n",
       "        [-0.989092  ],\n",
       "        [-0.30806954],\n",
       "        [-0.31313108],\n",
       "        [-1.04874231],\n",
       "        [-0.82563241],\n",
       "        [10.949927  ],\n",
       "        [-2.50136833]])]"
      ]
     },
     "execution_count": 13,
     "metadata": {},
     "output_type": "execute_result"
    }
   ],
   "source": [
    "# Посмотрим на веса\n",
    "solver.get_weights()"
   ]
  },
  {
   "cell_type": "markdown",
   "metadata": {},
   "source": [
    "Первые 8 весов, это коэфициент перед входным нейроном, а последний это свободный вес смещения.\n",
    "Как мы видим, коэфициент при 8 бите гораздо больше остальных. "
   ]
  },
  {
   "cell_type": "code",
   "execution_count": null,
   "metadata": {},
   "outputs": [],
   "source": []
  }
 ],
 "metadata": {
  "kernelspec": {
   "display_name": "Python 3",
   "language": "python",
   "name": "python3"
  },
  "language_info": {
   "codemirror_mode": {
    "name": "ipython",
    "version": 3
   },
   "file_extension": ".py",
   "mimetype": "text/x-python",
   "name": "python",
   "nbconvert_exporter": "python",
   "pygments_lexer": "ipython3",
   "version": "3.7.1"
  }
 },
 "nbformat": 4,
 "nbformat_minor": 1
}
